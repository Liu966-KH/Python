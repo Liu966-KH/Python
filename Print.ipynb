{
  "nbformat": 4,
  "nbformat_minor": 0,
  "metadata": {
    "colab": {
      "name": "Print",
      "provenance": [],
      "authorship_tag": "ABX9TyPdRGpUvNaK0smJRwca78Do",
      "include_colab_link": true
    },
    "kernelspec": {
      "name": "python3",
      "display_name": "Python 3"
    }
  },
  "cells": [
    {
      "cell_type": "markdown",
      "metadata": {
        "id": "view-in-github",
        "colab_type": "text"
      },
      "source": [
        "<a href=\"https://colab.research.google.com/github/ccsoez/Python/blob/master/Print.ipynb\" target=\"_parent\"><img src=\"https://colab.research.google.com/assets/colab-badge.svg\" alt=\"Open In Colab\"/></a>"
      ]
    },
    {
      "cell_type": "markdown",
      "metadata": {
        "id": "QA3ng09st_tH"
      },
      "source": [
        "#標準輸出指令：Print\n",
        "\n",
        "print指令就是用來輸出指定字串或數值到標準輸出裝置，通常在預設情況下是指輸出到螢幕上。\n",
        "\n",
        "```\n",
        "print (項目1,項目2,…, [sep=分隔字元, end=結束字元])\n",
        "```\n",
        "\n",
        "*   項目1，項目2：用來輸出多個項目，每一個項目之間必須用逗號「,」隔開\n",
        "*   sep：分隔字元，將每一個輸出的項目用分隔字元區隔，Python預設的分隔字元是空白字元\n",
        "*   end：所有項目輸出完畢之後會自動加入的字元，預設為換行字元「\\n」\n"
      ]
    },
    {
      "cell_type": "code",
      "metadata": {
        "id": "bVlESEpQt7E3",
        "outputId": "5e13eac6-46e3-419f-aee3-a49ba78857fd",
        "colab": {
          "base_uri": "https://localhost:8080/"
        }
      },
      "source": [
        "print(\"知足常樂\")"
      ],
      "execution_count": 8,
      "outputs": [
        {
          "output_type": "stream",
          "text": [
            "知足常樂\n"
          ],
          "name": "stdout"
        }
      ]
    },
    {
      "cell_type": "code",
      "metadata": {
        "id": "H0ecFKShv0Fd",
        "outputId": "d5a986ad-d1a1-4792-eb4d-05c4465d7e7d",
        "colab": {
          "base_uri": "https://localhost:8080/"
        }
      },
      "source": [
        "print(\"金玉良言\",\"知足常樂\",\"笑口常開\")\n",
        "print(\"金玉良言\",\"知足常樂\",\"笑口常開\",sep=\"-\")"
      ],
      "execution_count": 3,
      "outputs": [
        {
          "output_type": "stream",
          "text": [
            "金玉良言 知足常樂 笑口常開\n",
            "金玉良言-知足常樂-笑口常開\n"
          ],
          "name": "stdout"
        }
      ]
    },
    {
      "cell_type": "markdown",
      "metadata": {
        "id": "Q1g2NtxUwoqZ"
      },
      "source": [
        "#格式化輸出功能\n",
        "\n",
        "```\n",
        "print (\"項目\" %(參數) )\n",
        "```\n",
        "\n",
        "*   %s：輸出字串\n",
        "*   %d：輸出整數\n",
        "*   %f：輸出浮點數"
      ]
    },
    {
      "cell_type": "code",
      "metadata": {
        "id": "Rokso-c1xXoX",
        "outputId": "acd79122-d6ff-4b66-d65f-d1c1bcd43dfe",
        "colab": {
          "base_uri": "https://localhost:8080/"
        }
      },
      "source": [
        "school=\"海青工商\"\n",
        "age=71\n",
        "print('%s已設立%d年' %(school,age))"
      ],
      "execution_count": 4,
      "outputs": [
        {
          "output_type": "stream",
          "text": [
            "海青工商已設立71年\n"
          ],
          "name": "stdout"
        }
      ]
    },
    {
      "cell_type": "markdown",
      "metadata": {
        "id": "QsV4ftFjyw2z"
      },
      "source": [
        "也可以用來精準控制輸出的位置，例：透過欄寬設定達到對齊效果\n",
        "如果字串內容總長度大於n字元，則會全部輸出，少於n字元則會在左方填入空白\n",
        "\n",
        "*   %8s：固定輸出8個字元，總長度大於8字元會全部輸出、少於則在*字串*左方填空白\n",
        "*   %8d：固定輸出8個字元，總長度大於8字元會全部輸出、少於則在*數值*左方填空白\n",
        "*   %8.2f：連同小數點也算1個字元，這個格式固定輸出8個字元，其中小數固定輸出2位數，若小數小於2位數，則在數字右方填0"
      ]
    },
    {
      "cell_type": "code",
      "metadata": {
        "id": "WSGM5j3my-8n",
        "outputId": "afb0fce4-cc1d-4b1d-8f33-546cb891e624",
        "colab": {
          "base_uri": "https://localhost:8080/"
        }
      },
      "source": [
        "school1=\"HCVS\"\n",
        "age1=71\n",
        "school2=\"NTUST\"\n",
        "age2=46\n",
        "print('%s已設立%d年' %(school1,age1))\n",
        "print('%s已設立%d年' %(school2,age2))\n",
        "\n",
        "print('%5s已設立%6.1f年' %(school1,age1))\n",
        "print('%5s已設立%6.1f年' %(school2,age2))"
      ],
      "execution_count": 22,
      "outputs": [
        {
          "output_type": "stream",
          "text": [
            "HCVS已設立71年\n",
            "NTUST已設立46年\n",
            " HCVS已設立  71.0年\n",
            "NTUST已設立  46.0年\n"
          ],
          "name": "stdout"
        }
      ]
    },
    {
      "cell_type": "markdown",
      "metadata": {
        "id": "CyHfRSCI2XAL"
      },
      "source": [
        "#format\n",
        "另一種格式化的方法，是以一對大刮號{ }來表示參數的位置\n",
        "\n",
        "```\n",
        "print (\"字串\".format (參數列) )\n",
        "```\n"
      ]
    },
    {
      "cell_type": "code",
      "metadata": {
        "id": "otpQbACV2xSx",
        "outputId": "a3b4c86b-4a3c-4ba0-e9ed-2881b7f3da53",
        "colab": {
          "base_uri": "https://localhost:8080/"
        }
      },
      "source": [
        "school=\"海青工商\"\n",
        "age=71\n",
        "#{ }裡沒有參數時，就會依序填入\n",
        "print('{}已設立{}年'.format(school,age))\n",
        "#{ }裡有參數時，就會按照索引值填入\n",
        "print('已設立{1}年的{0}'.format(school,age))"
      ],
      "execution_count": 27,
      "outputs": [
        {
          "output_type": "stream",
          "text": [
            "海青工商已設立71年\n",
            "已設立71年的海青工商\n"
          ],
          "name": "stdout"
        }
      ]
    }
  ]
}