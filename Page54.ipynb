{
  "nbformat": 4,
  "nbformat_minor": 0,
  "metadata": {
    "colab": {
      "name": "Page54",
      "provenance": [],
      "authorship_tag": "ABX9TyPyOCgIGgtFwRwGe5Tfd74e",
      "include_colab_link": true
    },
    "kernelspec": {
      "name": "python3",
      "display_name": "Python 3"
    }
  },
  "cells": [
    {
      "cell_type": "markdown",
      "metadata": {
        "id": "view-in-github",
        "colab_type": "text"
      },
      "source": [
        "<a href=\"https://colab.research.google.com/github/ccsoez/Python/blob/master/Page54.ipynb\" target=\"_parent\"><img src=\"https://colab.research.google.com/assets/colab-badge.svg\" alt=\"Open In Colab\"/></a>"
      ]
    },
    {
      "cell_type": "markdown",
      "metadata": {
        "id": "LSfpCTDRV6ON",
        "colab_type": "text"
      },
      "source": [
        "\n",
        "# Page54\n",
        "\n",
        "##變數\n",
        "與數學課中的x,y,z等代數相似，可以把變數想像成一個容器，裡面只能裝一個數值，例是我們可以替換這個容器內部的數值。"
      ]
    },
    {
      "cell_type": "code",
      "metadata": {
        "id": "qIIMNapsVcuN",
        "colab_type": "code",
        "colab": {
          "base_uri": "https://localhost:8080/",
          "height": 34
        },
        "outputId": "3e50c946-e57e-40b8-9d57-acb72df75ad0"
      },
      "source": [
        "x=10\n",
        "y=20\n",
        "x=30\n",
        "print(x,y)\n"
      ],
      "execution_count": 2,
      "outputs": [
        {
          "output_type": "stream",
          "text": [
            "30 20\n"
          ],
          "name": "stdout"
        }
      ]
    }
  ]
}