{
  "nbformat": 4,
  "nbformat_minor": 0,
  "metadata": {
    "colab": {
      "name": "Page56",
      "provenance": [],
      "authorship_tag": "ABX9TyMFgTKGZJqRUaJEx1U8AXrT",
      "include_colab_link": true
    },
    "kernelspec": {
      "name": "python3",
      "display_name": "Python 3"
    }
  },
  "cells": [
    {
      "cell_type": "markdown",
      "metadata": {
        "id": "view-in-github",
        "colab_type": "text"
      },
      "source": [
        "<a href=\"https://colab.research.google.com/github/ccsoez/Python/blob/master/Page56.ipynb\" target=\"_parent\"><img src=\"https://colab.research.google.com/assets/colab-badge.svg\" alt=\"Open In Colab\"/></a>"
      ]
    },
    {
      "cell_type": "markdown",
      "metadata": {
        "id": "Zzc4OD1cgpCc",
        "colab_type": "text"
      },
      "source": [
        "# Page56\n",
        "\n",
        "##變數的比較"
      ]
    },
    {
      "cell_type": "code",
      "metadata": {
        "id": "rJ4n-_hTgmFD",
        "colab_type": "code",
        "colab": {}
      },
      "source": [
        "x = 10 \n",
        "y = 20 \n",
        "print(x > y)\n",
        "print(x < y)\n",
        "print(x == y)\n"
      ],
      "execution_count": null,
      "outputs": []
    }
  ]
}