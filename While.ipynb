{
  "nbformat": 4,
  "nbformat_minor": 0,
  "metadata": {
    "colab": {
      "name": "While",
      "provenance": [],
      "collapsed_sections": [],
      "authorship_tag": "ABX9TyPhhShK72cT04dzJ0r4f7Ix",
      "include_colab_link": true
    },
    "kernelspec": {
      "name": "python3",
      "display_name": "Python 3"
    }
  },
  "cells": [
    {
      "cell_type": "markdown",
      "metadata": {
        "id": "view-in-github",
        "colab_type": "text"
      },
      "source": [
        "<a href=\"https://colab.research.google.com/github/ccsoez/Python/blob/master/While.ipynb\" target=\"_parent\"><img src=\"https://colab.research.google.com/assets/colab-badge.svg\" alt=\"Open In Colab\"/></a>"
      ]
    },
    {
      "cell_type": "markdown",
      "metadata": {
        "id": "D_ij2sA58Baq"
      },
      "source": [
        "#while迴圈\n",
        "\n",
        "while與for都能用來執行重複結構的功能，但是最大的差異在於while需要自行設定計數器。\n",
        "\n",
        "\n",
        "通常for迴圈會使用在已知有限的循環裡，而while則可以用在無限的循環中。\n",
        "\n",
        "\n",
        "另外，while還可以配合break及continue來使用。\n",
        "\n",
        "\n",
        "*   break：離開迴圈\n",
        "*   continue：繼續迴圈\n"
      ]
    },
    {
      "cell_type": "code",
      "metadata": {
        "id": "MMjPSwkc8AfS"
      },
      "source": [
        "number = 0\n",
        "while number <= 10:  #以自行設定的計數器number來做條件判斷\n",
        "  print(number)\n",
        "  number = number + 1 #每次執行完畢後就將計數器+1\n",
        "print('數到十了！')"
      ],
      "execution_count": null,
      "outputs": []
    },
    {
      "cell_type": "markdown",
      "metadata": {
        "id": "1NT2-jq5-ii7"
      },
      "source": [
        "首先，檢查條件成立就開始執行 while區塊裡的程式碼，當每一行程式碼都執行完時，又會再回到while條件式，再次檢查條件是否成立，如此無限循環。直到條件為False，就離開while。\n",
        "\n",
        "「所以while有無限執行下去的能力，請小心使用」\n",
        "\n",
        "下面的例子就是停不下來的無限迴圈範例，會一直執行下去，除非手動關閉。"
      ]
    },
    {
      "cell_type": "code",
      "metadata": {
        "id": "U_4mswE77-op"
      },
      "source": [
        "number = 0\n",
        "while True:  #條件式成立\n",
        "  print(number)\n",
        "  number = number + 1 #每次執行完畢後就將數字+1\n",
        "print('數到十了！')  #←永遠看不到這一行，因為會一直無線迴圈執行下去"
      ],
      "execution_count": null,
      "outputs": []
    }
  ]
}