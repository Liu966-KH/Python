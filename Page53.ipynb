{
  "nbformat": 4,
  "nbformat_minor": 0,
  "metadata": {
    "colab": {
      "name": "Page53",
      "provenance": [],
      "authorship_tag": "ABX9TyM6ItflpRg/AsmKkHNWr6C2",
      "include_colab_link": true
    },
    "kernelspec": {
      "name": "python3",
      "display_name": "Python 3"
    }
  },
  "cells": [
    {
      "cell_type": "markdown",
      "metadata": {
        "id": "view-in-github",
        "colab_type": "text"
      },
      "source": [
        "<a href=\"https://colab.research.google.com/github/ccsoez/Python/blob/master/Page53.ipynb\" target=\"_parent\"><img src=\"https://colab.research.google.com/assets/colab-badge.svg\" alt=\"Open In Colab\"/></a>"
      ]
    },
    {
      "cell_type": "markdown",
      "metadata": {
        "id": "sTVEWsUeOg-S",
        "colab_type": "text"
      },
      "source": [
        "\n",
        "# Page53\n",
        "\n",
        "##Print\n",
        "可以將（）內的文字列印出來，\n",
        "但如果是***文字***的話，需要用單引號或雙引號包夾。"
      ]
    },
    {
      "cell_type": "code",
      "metadata": {
        "id": "gByr68iTORWP",
        "colab_type": "code",
        "colab": {}
      },
      "source": [
        "print('哈囉 資訊科技!')"
      ],
      "execution_count": null,
      "outputs": []
    },
    {
      "cell_type": "code",
      "metadata": {
        "id": "rwA99lRiOdqU",
        "colab_type": "code",
        "colab": {}
      },
      "source": [
        "print(\"哈囉 資訊科技!\")"
      ],
      "execution_count": null,
      "outputs": []
    },
    {
      "cell_type": "code",
      "metadata": {
        "id": "2goPPt76Rmev",
        "colab_type": "code",
        "colab": {}
      },
      "source": [
        "#換你試試\n",
        "print()"
      ],
      "execution_count": null,
      "outputs": []
    },
    {
      "cell_type": "code",
      "metadata": {
        "id": "9ePdOsO5R-Ka",
        "colab_type": "code",
        "colab": {}
      },
      "source": [
        "#那如果要列印的內容是數字呢？\n",
        "print()"
      ],
      "execution_count": null,
      "outputs": []
    }
  ]
}