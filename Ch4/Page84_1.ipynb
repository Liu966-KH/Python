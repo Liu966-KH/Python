{
  "nbformat": 4,
  "nbformat_minor": 0,
  "metadata": {
    "colab": {
      "name": "Page84-1",
      "provenance": [],
      "include_colab_link": true
    },
    "kernelspec": {
      "name": "python3",
      "display_name": "Python 3"
    }
  },
  "cells": [
    {
      "cell_type": "markdown",
      "metadata": {
        "id": "view-in-github",
        "colab_type": "text"
      },
      "source": [
        "<a href=\"https://colab.research.google.com/github/ccsoez/Python/blob/master/Ch4/Page84_1.ipynb\" target=\"_parent\"><img src=\"https://colab.research.google.com/assets/colab-badge.svg\" alt=\"Open In Colab\"/></a>"
      ]
    },
    {
      "cell_type": "markdown",
      "metadata": {
        "id": "NjefrCTo7Mzu"
      },
      "source": [
        "# Page84\n",
        "\n",
        "##多元練習\n",
        "\n"
      ]
    },
    {
      "cell_type": "markdown",
      "metadata": {
        "id": "ljcp3d0m7rK2"
      },
      "source": [
        "1.嘉明參加鐵人三項競賽，奪得冠軍，他的比賽成績如下：\n",
        "*   游泳30分鐘\n",
        "*   單車1小時\n",
        "*   跑步1小時半\n",
        "\n",
        "註：比賽成績已經使用一維陣列建立\n",
        "\n",
        "請使用循序結構、重複結構輸出比賽成績，例：\n",
        "\n",
        "游泳: 30分鐘\n",
        "\n",
        "單車: 1小時\n",
        "\n",
        "跑步: 1小時半\n"
      ]
    },
    {
      "cell_type": "code",
      "metadata": {
        "id": "wgKkqSbQ7Iib"
      },
      "source": [
        "contest_names = ['游泳', '單車', '跑步']\n",
        "times = ['30分鐘', '1小時', '1小時半']\n",
        "#請使用循序結構完成本題\n"
      ],
      "execution_count": null,
      "outputs": []
    },
    {
      "cell_type": "code",
      "metadata": {
        "id": "DDomYGTH8D3C"
      },
      "source": [
        "contest_names = ['游泳', '單車', '跑步']\n",
        "times = ['30分鐘', '1小時', '1小時半']\n",
        "#請使用重複結構完成本題（for迴圈與range）\n"
      ],
      "execution_count": null,
      "outputs": []
    }
  ]
}