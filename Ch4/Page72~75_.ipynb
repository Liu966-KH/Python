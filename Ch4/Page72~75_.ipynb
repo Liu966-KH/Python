{
  "nbformat": 4,
  "nbformat_minor": 0,
  "metadata": {
    "colab": {
      "name": "Page72~75*",
      "provenance": [],
      "authorship_tag": "ABX9TyOW+3hvaCZ96AO+BxsHyluT",
      "include_colab_link": true
    },
    "kernelspec": {
      "name": "python3",
      "display_name": "Python 3"
    }
  },
  "cells": [
    {
      "cell_type": "markdown",
      "metadata": {
        "id": "view-in-github",
        "colab_type": "text"
      },
      "source": [
        "<a href=\"https://colab.research.google.com/github/ccsoez/Python/blob/master/Ch4/Page72~75_.ipynb\" target=\"_parent\"><img src=\"https://colab.research.google.com/assets/colab-badge.svg\" alt=\"Open In Colab\"/></a>"
      ]
    },
    {
      "cell_type": "markdown",
      "metadata": {
        "id": "6ZkuYIHCqyCh"
      },
      "source": [
        "#二維陣列與重複結構\n",
        "\n",
        "利用兩層的for迴圈來存取陣列，\n",
        "\n",
        "外層的迴圈處理每一個陣列，例：['長頸鹿', '獅子', '兔子'],['樹葉', '肉', '紅蘿蔔']\n",
        "\n",
        "內層迴圈處理每一個陣列裡的每一個元素，例：['長頸鹿', '獅子', '兔子']這個陣列裡的長頸鹿、獅子、兔子"
      ]
    },
    {
      "cell_type": "code",
      "metadata": {
        "id": "gFNiAuAaqvwq"
      },
      "source": [
        "animals_2d = [\n",
        "['長頸鹿', '獅子', '兔子'],\n",
        "['樹葉', '肉', '紅蘿蔔']\n",
        "]\n",
        "for i in range(2):       #外層控制animals_2d第i個元素(陣列)\n",
        "    for j in range(3):   #內層控制animals_2d第i個元素(陣列)的第j個元素\n",
        "        print(animals_2d[i][j])"
      ],
      "execution_count": null,
      "outputs": []
    },
    {
      "cell_type": "markdown",
      "metadata": {
        "id": "GGOnjHziryut"
      },
      "source": [
        "#Page 73 實例演練"
      ]
    },
    {
      "cell_type": "code",
      "metadata": {
        "id": "btkVZ4xdr5-1",
        "outputId": "d188798b-cbcd-433c-f848-3a92749535de",
        "colab": {
          "base_uri": "https://localhost:8080/"
        }
      },
      "source": [
        "num_visitors = [\n",
        "[50, 10, 14, 7, 25, 30, 70],\n",
        "[30, 24, 14, 9, 87, 63, 25],\n",
        "[100, 52, 82, 89, 36, 78, 22] \n",
        "]\n",
        "day_names = ['星期日', '星期一', '星期二', '星期三', '星期四', '星期五', '星期六']\n",
        "for week_index in range(3):              # 有3個星期的資料，因此是range(3)\n",
        "    #注意縮排，以下這個print()屬於外層迴圈\n",
        "    print('第', week_index + 1, '個星期')  \n",
        "    for day_index in range(7):           # 一星期有7天，因此是range(7)\n",
        "        #注意縮排，以下這個print()屬於內層迴圈\n",
        "        print(day_names[day_index], num_visitors[week_index][day_index], '人')"
      ],
      "execution_count": 1,
      "outputs": [
        {
          "output_type": "stream",
          "text": [
            "第 1 個星期\n",
            "星期日 50 人\n",
            "星期一 10 人\n",
            "星期二 14 人\n",
            "星期三 7 人\n",
            "星期四 25 人\n",
            "星期五 30 人\n",
            "星期六 70 人\n",
            "第 2 個星期\n",
            "星期日 30 人\n",
            "星期一 24 人\n",
            "星期二 14 人\n",
            "星期三 9 人\n",
            "星期四 87 人\n",
            "星期五 63 人\n",
            "星期六 25 人\n",
            "第 3 個星期\n",
            "星期日 100 人\n",
            "星期一 52 人\n",
            "星期二 82 人\n",
            "星期三 89 人\n",
            "星期四 36 人\n",
            "星期五 78 人\n",
            "星期六 22 人\n"
          ],
          "name": "stdout"
        }
      ]
    }
  ]
}