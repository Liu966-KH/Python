{
  "nbformat": 4,
  "nbformat_minor": 0,
  "metadata": {
    "colab": {
      "name": "Page61",
      "provenance": [],
      "authorship_tag": "ABX9TyNzgOuahaZJ3iigaYiG+DQo",
      "include_colab_link": true
    },
    "kernelspec": {
      "name": "python3",
      "display_name": "Python 3"
    }
  },
  "cells": [
    {
      "cell_type": "markdown",
      "metadata": {
        "id": "view-in-github",
        "colab_type": "text"
      },
      "source": [
        "<a href=\"https://colab.research.google.com/github/ccsoez/Python/blob/master/Ch4/Page61.ipynb\" target=\"_parent\"><img src=\"https://colab.research.google.com/assets/colab-badge.svg\" alt=\"Open In Colab\"/></a>"
      ]
    },
    {
      "cell_type": "markdown",
      "metadata": {
        "id": "khY8EZX9mod6"
      },
      "source": [
        "# 一維陣列\n",
        "Python的陣列是以中刮號 **[  ]** 所表示\n",
        "\n",
        "（每一種型態的刮號都有特別的意義）\n",
        "\n",
        "※ 陣列的索引值從0開始"
      ]
    },
    {
      "cell_type": "code",
      "metadata": {
        "id": "WP4Sj8_fmcgU"
      },
      "source": [
        "#陣列的建立\n",
        "score_array = [85, 92, 88, 96]\n",
        "animals = ['長頸鹿', '獅子', '老虎', '河馬', '熊', '兔子', '斑馬']\n",
        "print(score_array)\n",
        "print(animals)"
      ],
      "execution_count": null,
      "outputs": []
    },
    {
      "cell_type": "code",
      "metadata": {
        "id": "DnXbSKzSm4_8"
      },
      "source": [
        "#陣列元素的存取\n",
        "score_array = [85, 92, 88, 96]\n",
        "x = score_array[0]    # x會被設定為85\n",
        "print(x)\n",
        "score_array[0] = 95   # score_array變成[95, 92, 88, 96]\n",
        "x = score_array[0]    # x會被設定為95\n",
        "print(x)"
      ],
      "execution_count": null,
      "outputs": []
    }
  ]
}