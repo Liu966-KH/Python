{
  "nbformat": 4,
  "nbformat_minor": 0,
  "metadata": {
    "colab": {
      "name": "Page66~71",
      "provenance": [],
      "collapsed_sections": [],
      "authorship_tag": "ABX9TyPYHu2mBFo6iRI6+LQizfPz",
      "include_colab_link": true
    },
    "kernelspec": {
      "name": "python3",
      "display_name": "Python 3"
    }
  },
  "cells": [
    {
      "cell_type": "markdown",
      "metadata": {
        "id": "view-in-github",
        "colab_type": "text"
      },
      "source": [
        "<a href=\"https://colab.research.google.com/github/ccsoez/Python/blob/master/Ch4/Page66~71.ipynb\" target=\"_parent\"><img src=\"https://colab.research.google.com/assets/colab-badge.svg\" alt=\"Open In Colab\"/></a>"
      ]
    },
    {
      "cell_type": "markdown",
      "metadata": {
        "id": "30f9kUklxIVr"
      },
      "source": [
        "# 循序結構\n",
        "\n",
        "是程式最基本的運作模式，電腦會從上而下、依序執行每一行程式"
      ]
    },
    {
      "cell_type": "code",
      "metadata": {
        "id": "v9HrQFCpxE-t"
      },
      "source": [
        "num_visitors = [50, 10, 14, 7, 25, 30, 70]\n",
        "print(num_visitors[0])\n",
        "\n",
        "#第二行可以列印出指定元素的內容，那如果想要加上其他的文字呢？\n",
        "#練習1：列印出「星期日： 50 人」"
      ],
      "execution_count": null,
      "outputs": []
    },
    {
      "cell_type": "code",
      "metadata": {
        "id": "FY9dZlLJ6Lxi"
      },
      "source": [
        "num_visitors = [50, 10, 14, 7, 25, 30, 70]\n",
        "print(num_visitors[0])\n",
        "\n",
        "#練習2：該如何用相同的格式將整週的都列印出來呢？"
      ],
      "execution_count": null,
      "outputs": []
    },
    {
      "cell_type": "markdown",
      "metadata": {
        "id": "1486iMmmyvjX"
      },
      "source": [
        "一行一行的輸出非常的土法練鋼，所以讓我們來看看「重複結構」！\n",
        "\n",
        "#重複結構\n",
        "\n",
        "可以大幅縮短重複的程式碼，for迴圈就是一種常見的重複結構\n"
      ]
    },
    {
      "cell_type": "code",
      "metadata": {
        "id": "A57uk7Npy8ol"
      },
      "source": [
        "score_array = [95, 92, 88, 96]       # 陣列中有4個元素\n",
        "# for迴圈會執行print() 4次，因為[0,1,2,3]中有4個元素\n",
        "# i在每一回合的值分別是0, 1, 2, 3\n",
        "for i in [0,1,2,3]:             # 注意，這一列最後要加上「:」\n",
        "  print(score_array[i])           # 這一列一定要縮排"
      ],
      "execution_count": null,
      "outputs": []
    },
    {
      "cell_type": "markdown",
      "metadata": {
        "id": "r8mcd59i5gds"
      },
      "source": [
        "#range（）函數\n",
        "\n",
        "產生連續的數值"
      ]
    },
    {
      "cell_type": "markdown",
      "metadata": {
        "id": "qMvKEK-H5vzd"
      },
      "source": [
        "使用range（m）函數產生連續的數值\n",
        "\n",
        "m：索引值從0開始，輸出m個元素"
      ]
    },
    {
      "cell_type": "code",
      "metadata": {
        "id": "1Cwy_z3tz-6o"
      },
      "source": [
        "animals = ['長頸鹿', '獅子', '老虎', '河馬', '熊', '兔子', '斑馬']\n",
        "\n",
        "for i in range(7):\n",
        "  print(animals[i])\n",
        "\n"
      ],
      "execution_count": null,
      "outputs": []
    },
    {
      "cell_type": "markdown",
      "metadata": {
        "id": "K5fpwINP5GiV"
      },
      "source": [
        "使用range（m,n）函數產生連續的數值\n",
        "\n",
        "m：索引值從m開始\n",
        "\n",
        "n：輸出索引值n-1"
      ]
    },
    {
      "cell_type": "code",
      "metadata": {
        "id": "j-p_-T8u5LIi"
      },
      "source": [
        "animals = ['長頸鹿', '獅子', '老虎', '河馬', '熊', '兔子', '斑馬']\n",
        "for i in range(2,4): #從索引值2開始，列印到索引值4-1\n",
        "  print(animals[i])"
      ],
      "execution_count": null,
      "outputs": []
    },
    {
      "cell_type": "code",
      "metadata": {
        "id": "MfcWA0rF3KVc"
      },
      "source": [
        "num_visitors = [50, 10, 14, 7, 25, 30, 70]\n",
        "#練習3：使用for迴圈列印出陣列內的整週資料，格式為「星期Ｘ： Ｘ 人」"
      ],
      "execution_count": null,
      "outputs": []
    },
    {
      "cell_type": "code",
      "metadata": {
        "id": "3jIyxRr7okE-"
      },
      "source": [
        "num_visitors = [50, 10, 14, 7, 25, 30, 70]\n",
        "#練習4：「星期Ｘ」似乎也可以使用迴圈+陣列來達成？使用for迴圈列印出整週的資料，格式為「星期Ｘ： Ｘ 人」\n",
        "#註：首先，需要再建立一個陣列，元素的內容是星期Ｘ，例：「星期日、星期一、星期二……」\n",
        "day_names = ['星期日：', '星期一：', '星期二：', '星期三：', '星期四：', '星期五：', '星期六：']"
      ],
      "execution_count": null,
      "outputs": []
    }
  ]
}