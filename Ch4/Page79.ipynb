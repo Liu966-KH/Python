{
  "nbformat": 4,
  "nbformat_minor": 0,
  "metadata": {
    "colab": {
      "name": "Page79",
      "provenance": [],
      "authorship_tag": "ABX9TyP4sSeoYU1pdkM1SAxut1TI",
      "include_colab_link": true
    },
    "kernelspec": {
      "name": "python3",
      "display_name": "Python 3"
    }
  },
  "cells": [
    {
      "cell_type": "markdown",
      "metadata": {
        "id": "view-in-github",
        "colab_type": "text"
      },
      "source": [
        "<a href=\"https://colab.research.google.com/github/ccsoez/Python/blob/master/Ch4/Page79.ipynb\" target=\"_parent\"><img src=\"https://colab.research.google.com/assets/colab-badge.svg\" alt=\"Open In Colab\"/></a>"
      ]
    },
    {
      "cell_type": "markdown",
      "metadata": {
        "id": "P_JkNzllh0ul"
      },
      "source": [
        "##模組化程式\n",
        "\n",
        "模組化程式設計可以將程式中常用或者重複的程式碼，分離出來成為模組或函數，藉此提高程式的「可重用性」與「可讀性」；而且，往後如果需要修改，也只需要針對該模組進行修改即可。\n",
        "\n",
        "```\n",
        "def 函數名稱(參數1,參數2,…,參數n):\n",
        "  函數內容的程式碼區塊\n",
        "  return 函數的回傳值 #不需要回傳值時，這一行可以省略\n",
        "```"
      ]
    },
    {
      "cell_type": "code",
      "metadata": {
        "id": "U05N6lgjhxH-"
      },
      "source": [
        "def addition(a, b):     # 注意，這一列最後要加上「:」\n",
        "    c = a + b      # 這一列以下要縮排\n",
        "    return c        #回傳結果給呼叫的程式碼\n",
        "\n",
        "z = addition(5,10)      # 利用變數z來儲存函數運算的結果\n",
        "print(z)"
      ],
      "execution_count": null,
      "outputs": []
    },
    {
      "cell_type": "markdown",
      "metadata": {
        "id": "94sJMclQjtRf"
      },
      "source": [
        "##我們在前先學過兩數對調的方法，如下列程式碼：\n",
        "\n",
        "```\n",
        "num_visitors = [70, 10, 14, 7, 25, 30, 50] #索引0~6代表星期日到六\n",
        "print(num_visitors)\n",
        "temp = num_visitors[0]             #把星期日的人數70給temp\n",
        "num_visitors[0] = num_visitors[6]  #把星期六的人數50給星期日\n",
        "num_visitors[6] = temp             #把temp的70給星期六\n",
        "print(num_visitors)\n",
        "```\n"
      ]
    },
    {
      "cell_type": "markdown",
      "metadata": {
        "id": "Y4KokKsckN7E"
      },
      "source": [
        "##使用def自定函數建立兩數對調的程式"
      ]
    },
    {
      "cell_type": "code",
      "metadata": {
        "id": "TCBphehFjoGl",
        "outputId": "6c1f6a81-f446-4e7e-802f-6ca9e963cea7",
        "colab": {
          "base_uri": "https://localhost:8080/"
        }
      },
      "source": [
        "#傳入變數如下：\n",
        "# a ：陣列\n",
        "# i ：要對調的陣列索引值\n",
        "# j ：另一個要對調的陣列索引值\n",
        "   \n",
        "def swap(a, i, j):\n",
        "  temp = a[i]\n",
        "  a[i] = a[j]\n",
        "  a[j] = temp            #不必return\n",
        "\n",
        "num_visitors = [70, 10, 14, 7, 25, 30, 50] #索引0~6代表星期日到六\n",
        "print(\"對調前：\",num_visitors)\n",
        "swap(num_visitors, 0, 6)   #把星期日及星期六的人數交換\n",
        "print(\"對調後：\",num_visitors)"
      ],
      "execution_count": 2,
      "outputs": [
        {
          "output_type": "stream",
          "text": [
            "對調前： [70, 10, 14, 7, 25, 30, 50]\n",
            "對調後： [50, 10, 14, 7, 25, 30, 70]\n"
          ],
          "name": "stdout"
        }
      ]
    }
  ]
}