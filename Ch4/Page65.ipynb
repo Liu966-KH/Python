{
  "nbformat": 4,
  "nbformat_minor": 0,
  "metadata": {
    "colab": {
      "name": "Page65",
      "provenance": [],
      "authorship_tag": "ABX9TyO9LU4nEhvLtG7G3fARLvIw",
      "include_colab_link": true
    },
    "kernelspec": {
      "name": "python3",
      "display_name": "Python 3"
    }
  },
  "cells": [
    {
      "cell_type": "markdown",
      "metadata": {
        "id": "view-in-github",
        "colab_type": "text"
      },
      "source": [
        "<a href=\"https://colab.research.google.com/github/ccsoez/Python/blob/master/Ch4/Page65.ipynb\" target=\"_parent\"><img src=\"https://colab.research.google.com/assets/colab-badge.svg\" alt=\"Open In Colab\"/></a>"
      ]
    },
    {
      "cell_type": "markdown",
      "metadata": {
        "id": "K_UGyNCctGlq"
      },
      "source": [
        "#實例演練\n"
      ]
    },
    {
      "cell_type": "code",
      "metadata": {
        "id": "OUMoL8xJtD5t"
      },
      "source": [
        "# 0 - 星期日 70人\n",
        "# 1 - 星期一 10人\n",
        "# 2 - 星期二 14人\n",
        "# 3 - 星期三 7人\n",
        "# 4 - 星期四 25人\n",
        "# 5 - 星期五 30人\n",
        "# 6 - 星期六 50人\n",
        "\n",
        "num_visitors = [70, 10, 14, 7, 25, 30, 50] #索引0~6代表星期日到六\n",
        "\n",
        "#想要對調星期日的70人與星期六的50人，應該怎麼修改現有的陣列？"
      ],
      "execution_count": null,
      "outputs": []
    }
  ]
}