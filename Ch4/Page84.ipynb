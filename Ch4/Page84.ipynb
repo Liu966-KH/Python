{
  "nbformat": 4,
  "nbformat_minor": 0,
  "metadata": {
    "colab": {
      "name": "Page84",
      "provenance": [],
      "authorship_tag": "ABX9TyPjJyPcFPff8w7w9NqIdT1T",
      "include_colab_link": true
    },
    "kernelspec": {
      "name": "python3",
      "display_name": "Python 3"
    }
  },
  "cells": [
    {
      "cell_type": "markdown",
      "metadata": {
        "id": "view-in-github",
        "colab_type": "text"
      },
      "source": [
        "<a href=\"https://colab.research.google.com/github/ccsoez/Python/blob/master/Ch4/Page84.ipynb\" target=\"_parent\"><img src=\"https://colab.research.google.com/assets/colab-badge.svg\" alt=\"Open In Colab\"/></a>"
      ]
    },
    {
      "cell_type": "markdown",
      "metadata": {
        "id": "NjefrCTo7Mzu"
      },
      "source": [
        "# Page84\n",
        "\n",
        "##多元練習\n",
        "\n"
      ]
    },
    {
      "cell_type": "markdown",
      "metadata": {
        "id": "ljcp3d0m7rK2"
      },
      "source": [
        "1.嘉明參加鐵人三項競賽，奪得冠軍，他的比賽成績如下：\n",
        "*   游泳30分鐘\n",
        "*   單車1小時\n",
        "*   跑步1小時半\n",
        "\n",
        "註：請先使用一維陣列建立比賽成績"
      ]
    },
    {
      "cell_type": "code",
      "metadata": {
        "id": "wgKkqSbQ7Iib"
      },
      "source": [
        "#請使用循序結構完成本題\n",
        "\n"
      ],
      "execution_count": null,
      "outputs": []
    },
    {
      "cell_type": "code",
      "metadata": {
        "id": "DDomYGTH8D3C"
      },
      "source": [
        "#請使用重複結構完成本題（for迴圈）\n",
        "\n"
      ],
      "execution_count": null,
      "outputs": []
    }
  ]
}