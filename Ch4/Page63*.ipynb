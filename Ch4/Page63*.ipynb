{
  "nbformat": 4,
  "nbformat_minor": 0,
  "metadata": {
    "colab": {
      "name": "Page63*",
      "provenance": [],
      "collapsed_sections": [],
      "authorship_tag": "ABX9TyO2ER9fz3iUeEm0aZ62PqOy",
      "include_colab_link": true
    },
    "kernelspec": {
      "name": "python3",
      "display_name": "Python 3"
    }
  },
  "cells": [
    {
      "cell_type": "markdown",
      "metadata": {
        "id": "view-in-github",
        "colab_type": "text"
      },
      "source": [
        "<a href=\"https://colab.research.google.com/github/ccsoez/Python/blob/master/Ch4/Page63_.ipynb\" target=\"_parent\"><img src=\"https://colab.research.google.com/assets/colab-badge.svg\" alt=\"Open In Colab\"/></a>"
      ]
    },
    {
      "cell_type": "markdown",
      "metadata": {
        "id": "uYowNpAsq2CQ"
      },
      "source": [
        "# 二維陣列*"
      ]
    },
    {
      "cell_type": "code",
      "metadata": {
        "id": "Kb6HImsgqzbY"
      },
      "source": [
        "#二維陣列的建立\n",
        "num_2d_array = [\n",
        "[1, 2, 3],\n",
        "[4, 5, 6],\n",
        "[7, 8, 9]\n",
        "]\n",
        "animals_2d = [\n",
        "['長頸鹿', '獅子', '兔子'],\n",
        "['樹葉', '肉', '紅蘿蔔']\n",
        "]\n",
        "print(num_2d_array)\n",
        "print(animals_2d)"
      ],
      "execution_count": null,
      "outputs": []
    },
    {
      "cell_type": "code",
      "metadata": {
        "id": "dcsQPUp3sK1j"
      },
      "source": [
        "animals_2d = [\n",
        "['長頸鹿', '獅子', '兔子'],\n",
        "['樹葉', '肉', '紅蘿蔔']\n",
        "]\n",
        "print(num_2d_array)\n",
        "print(animals_2d)\n",
        "\n",
        "#如果想要讀取到\"['長頸鹿', '獅子', '兔子']\"應該怎麼做？\n",
        "print(animals_2d[   ])\n",
        "\n",
        "#如果只想要讀取到\"兔子\"，應該怎麼做？\n",
        "print(animals_2d[   ][   ])"
      ],
      "execution_count": null,
      "outputs": []
    },
    {
      "cell_type": "code",
      "metadata": {
        "id": "Fsfa-EH6rnZS"
      },
      "source": [
        "#二維陣列的存取\n",
        "num_array = [\n",
        "[1, 2, 3],\n",
        "[4, 5, 6],\n",
        "[7, 8, 9]\n",
        "]\n",
        "x = num_array[0]        # x會變成 [1, 2, 3]\n",
        "y = num_array[0][2]     # y會變成3\n",
        "num_array[2][1] = -8    # num_array[2][1]由8變成-8\n",
        "print(x)\n",
        "print(y)\n",
        "print(num_array[2][1])"
      ],
      "execution_count": null,
      "outputs": []
    }
  ]
}
