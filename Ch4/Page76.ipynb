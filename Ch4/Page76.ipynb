{
  "nbformat": 4,
  "nbformat_minor": 0,
  "metadata": {
    "colab": {
      "name": "Page76",
      "provenance": [],
      "authorship_tag": "ABX9TyPH/brn7/E/c7F+St/Q19BW",
      "include_colab_link": true
    },
    "kernelspec": {
      "name": "python3",
      "display_name": "Python 3"
    }
  },
  "cells": [
    {
      "cell_type": "markdown",
      "metadata": {
        "id": "view-in-github",
        "colab_type": "text"
      },
      "source": [
        "<a href=\"https://colab.research.google.com/github/ccsoez/Python/blob/master/Ch4/Page76.ipynb\" target=\"_parent\"><img src=\"https://colab.research.google.com/assets/colab-badge.svg\" alt=\"Open In Colab\"/></a>"
      ]
    },
    {
      "cell_type": "markdown",
      "metadata": {
        "id": "asD7vIvpwydt"
      },
      "source": [
        "#選擇結構\n",
        "\n",
        "根據條件的成立與否，來決定要執行那一段程式碼"
      ]
    },
    {
      "cell_type": "code",
      "metadata": {
        "id": "M9wDHNxCwxAp"
      },
      "source": [
        "score = 92\n",
        "if score >= 70:           # 以「:」結尾\n",
        "    print('通過')          # 記得縮排\n",
        "else:                  # 以「:」結尾\n",
        "    print('再試一次')        # 記得縮排"
      ],
      "execution_count": null,
      "outputs": []
    },
    {
      "cell_type": "code",
      "metadata": {
        "id": "YYwbxqTxyPKl"
      },
      "source": [
        "num_visitors = [50, 10, 14, 7, 25, 30, 70]\n",
        "day_names = ['星期日', '星期一', '星期二', '星期三', '星期四', '星期五', '星期六']\n",
        "for day_index in range(7):\n",
        "    if num_visitors[day_index] > 35:\n",
        "        print(day_names[day_index], ' 人數爆棚！')\n",
        "    else:\n",
        "        print(day_names[day_index], ' 需要繼續加油...')"
      ],
      "execution_count": null,
      "outputs": []
    },
    {
      "cell_type": "markdown",
      "metadata": {
        "id": "piur5vYEx4AO"
      },
      "source": [
        "如果選擇結構的條件有兩個以上的話，可以利用「if-elif-else」語法來表示。"
      ]
    },
    {
      "cell_type": "code",
      "metadata": {
        "id": "tBI4nH5NyKzU"
      },
      "source": [
        "BMI = 22.5          # 這裡的變數BMI是英文大寫，下面的也一樣要大寫\n",
        "if BMI < 18.5:\n",
        "    print('體重過輕也不算健康哦！')\n",
        "elif BMI < 24:\n",
        "    print('合適的體重，繼續保持哦！')\n",
        "else:\n",
        "    print('控制飲食、多運動會更健康哦！')"
      ],
      "execution_count": null,
      "outputs": []
    }
  ]
}