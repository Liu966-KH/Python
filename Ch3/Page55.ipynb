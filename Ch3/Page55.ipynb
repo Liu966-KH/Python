{
  "nbformat": 4,
  "nbformat_minor": 0,
  "metadata": {
    "colab": {
      "name": "Page55",
      "provenance": [],
      "authorship_tag": "ABX9TyM0WKkoPzUJvPf9FOIHDnv4",
      "include_colab_link": true
    },
    "kernelspec": {
      "name": "python3",
      "display_name": "Python 3"
    }
  },
  "cells": [
    {
      "cell_type": "markdown",
      "metadata": {
        "id": "view-in-github",
        "colab_type": "text"
      },
      "source": [
        "<a href=\"https://colab.research.google.com/github/ccsoez/Python/blob/master/Ch3/Page55.ipynb\" target=\"_parent\"><img src=\"https://colab.research.google.com/assets/colab-badge.svg\" alt=\"Open In Colab\"/></a>"
      ]
    },
    {
      "cell_type": "markdown",
      "metadata": {
        "id": "vT55Udw4gTmE",
        "colab_type": "text"
      },
      "source": [
        "# Page55\n",
        "\n",
        "##變數的四則運算"
      ]
    },
    {
      "cell_type": "code",
      "metadata": {
        "id": "ZIQPpuEUgPVv",
        "colab_type": "code",
        "colab": {}
      },
      "source": [
        "x = 10 + 5   # 加：x變成15 \n",
        "y = 20 - x   # 減：y變成5\n",
        "z = x * y    # 乘：z變成75\n",
        "q = x / y    # 除：q變成3.0\n",
        "print(x, y, z, q)\n"
      ],
      "execution_count": null,
      "outputs": []
    }
  ]
}