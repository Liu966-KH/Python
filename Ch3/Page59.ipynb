{
  "nbformat": 4,
  "nbformat_minor": 0,
  "metadata": {
    "colab": {
      "name": "Page59",
      "provenance": [],
      "authorship_tag": "ABX9TyNIrZOJ+NU3wOxj/rYejzzW",
      "include_colab_link": true
    },
    "kernelspec": {
      "name": "python3",
      "display_name": "Python 3"
    }
  },
  "cells": [
    {
      "cell_type": "markdown",
      "metadata": {
        "id": "view-in-github",
        "colab_type": "text"
      },
      "source": [
        "<a href=\"https://colab.research.google.com/github/ccsoez/Python/blob/master/Ch3/Page59.ipynb\" target=\"_parent\"><img src=\"https://colab.research.google.com/assets/colab-badge.svg\" alt=\"Open In Colab\"/></a>"
      ]
    },
    {
      "cell_type": "markdown",
      "metadata": {
        "id": "URA41RbEi3bD",
        "colab_type": "text"
      },
      "source": [
        "# Page59\n",
        "\n",
        "##多元練習"
      ]
    },
    {
      "cell_type": "markdown",
      "metadata": {
        "id": "efAFleUpjB_g",
        "colab_type": "text"
      },
      "source": [
        "###1"
      ]
    },
    {
      "cell_type": "code",
      "metadata": {
        "id": "8j9QR0FSi1dj",
        "colab_type": "code",
        "colab": {}
      },
      "source": [
        "a=50\n",
        "b=30\n",
        "c=6\n",
        "d=2\n",
        "print((a-b)/(c+d))\n"
      ],
      "execution_count": null,
      "outputs": []
    },
    {
      "cell_type": "markdown",
      "metadata": {
        "id": "SvHHMdMejEdn",
        "colab_type": "text"
      },
      "source": [
        "###2\n",
        "提示：「次方」的運算符號為「**」"
      ]
    },
    {
      "cell_type": "code",
      "metadata": {
        "id": "7UVHWtZhjHDH",
        "colab_type": "code",
        "colab": {}
      },
      "source": [
        "a=4\n",
        "b=3\n",
        "c=(a**2+b**2)**0.5\n",
        "print(c)\n",
        "\n"
      ],
      "execution_count": null,
      "outputs": []
    }
  ]
}