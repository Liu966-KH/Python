{
  "nbformat": 4,
  "nbformat_minor": 0,
  "metadata": {
    "colab": {
      "name": "Page57",
      "provenance": [],
      "authorship_tag": "ABX9TyMdVVL2BIk5mWJQ6a+IppVy",
      "include_colab_link": true
    },
    "kernelspec": {
      "name": "python3",
      "display_name": "Python 3"
    }
  },
  "cells": [
    {
      "cell_type": "markdown",
      "metadata": {
        "id": "view-in-github",
        "colab_type": "text"
      },
      "source": [
        "<a href=\"https://colab.research.google.com/github/ccsoez/Python/blob/master/Ch3/Page57.ipynb\" target=\"_parent\"><img src=\"https://colab.research.google.com/assets/colab-badge.svg\" alt=\"Open In Colab\"/></a>"
      ]
    },
    {
      "cell_type": "markdown",
      "metadata": {
        "id": "cKgByW4mhOw6",
        "colab_type": "text"
      },
      "source": [
        "# Page57\n",
        "\n",
        "##整合應用：簡單的程式-交換兩個變數"
      ]
    },
    {
      "cell_type": "code",
      "metadata": {
        "id": "X2r3upK9hNXO",
        "colab_type": "code",
        "colab": {}
      },
      "source": [
        "x = 10       #交換前的x為10\n",
        "y = 20       #交換前的y為20\n",
        "x = y        #把y值給x\n",
        "y = x        #把x值給y\n",
        "print(x, y)\n"
      ],
      "execution_count": null,
      "outputs": []
    },
    {
      "cell_type": "markdown",
      "metadata": {
        "id": "mEbclQ6yhfGi",
        "colab_type": "text"
      },
      "source": [
        "##那應該怎麼做呢？"
      ]
    },
    {
      "cell_type": "code",
      "metadata": {
        "id": "r26zH0SWhf4F",
        "colab_type": "code",
        "colab": {}
      },
      "source": [
        "x = 10       #交換前的x為10\n",
        "y = 20       #交換前的y為20\n",
        "##接下來交給你\n"
      ],
      "execution_count": null,
      "outputs": []
    }
  ]
}