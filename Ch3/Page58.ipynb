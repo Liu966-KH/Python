{
  "nbformat": 4,
  "nbformat_minor": 0,
  "metadata": {
    "colab": {
      "name": "Page58",
      "provenance": [],
      "authorship_tag": "ABX9TyO6B1tk9ne0BTZdKAShqwlu",
      "include_colab_link": true
    },
    "kernelspec": {
      "name": "python3",
      "display_name": "Python 3"
    }
  },
  "cells": [
    {
      "cell_type": "markdown",
      "metadata": {
        "id": "view-in-github",
        "colab_type": "text"
      },
      "source": [
        "<a href=\"https://colab.research.google.com/github/ccsoez/Python/blob/master/Ch3/Page58.ipynb\" target=\"_parent\"><img src=\"https://colab.research.google.com/assets/colab-badge.svg\" alt=\"Open In Colab\"/></a>"
      ]
    },
    {
      "cell_type": "markdown",
      "metadata": {
        "id": "5fcHakBiiB77",
        "colab_type": "text"
      },
      "source": [
        "# Page58\n",
        "\n",
        "##整合應用：簡單的程式-交換兩個變數（完成）"
      ]
    },
    {
      "cell_type": "code",
      "metadata": {
        "id": "o5pUImYAiAVn",
        "colab_type": "code",
        "colab": {}
      },
      "source": [
        "x = 10       #交換前的x為10\n",
        "y = 20       #交換前的y為20\n",
        "temp = x     #把x值給temp\n",
        "x = y        #把y值給x\n",
        "y = temp     #把temp值給y\n",
        "print(x, y)\n"
      ],
      "execution_count": null,
      "outputs": []
    }
  ]
}